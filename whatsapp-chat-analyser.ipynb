{
 "cells": [
  {
   "cell_type": "code",
   "execution_count": 1,
   "metadata": {},
   "outputs": [],
   "source": [
    "import re\n",
    "import pandas as pd"
   ]
  },
  {
   "cell_type": "code",
   "execution_count": 2,
   "metadata": {},
   "outputs": [],
   "source": [
    "f = open('WhatsApp Chat with Lb_dsc_Jan 3rd Wknd.txt','r',encoding='utf-8')"
   ]
  },
  {
   "cell_type": "code",
   "execution_count": 3,
   "metadata": {},
   "outputs": [],
   "source": [
    "data = f.read()"
   ]
  },
  {
   "cell_type": "code",
   "execution_count": 4,
   "metadata": {},
   "outputs": [
    {
     "name": "stdout",
     "output_type": "stream",
     "text": [
      "12/3/20, 12:12 PM - Apoorva Nayyer Lb created group \"Lb_dsc_Jan 3rd Wknd\"\n",
      "12/3/20, 12:12 PM - You were added\n",
      "11/25/21, 8:18 AM - Sandip LB: Hey @917081929249 , our Power BI was completed by Rajeev Sir, I am late to find that Class 1 pdf notes are not available in the drive. Can you ask him for the same??\n",
      "11/25/21, 10:55 AM - Simran: Hi ...sure will ask him to upload\n",
      "11/26/21, 6:54 PM - Simran added +91 90022 73736\n",
      "11/27/21, 8:30 AM - +91 90022 73736: Guys we will start in 5 mins\n",
      "11/27/21, 4:59 PM - Shankar Wagh: @917081929249 mam upload today's  lecture on lms( time series)\n",
      "11/27/21, 5:03 PM - Simran: will be uploaded within 15 minutes\n",
      "11/27/21, 5:03 PM - Shankar Wagh: Ok thanks\n",
      "11/28/21, 6:38 AM - +91 90022 73736: Team am having extreme stomach aches this morning. I am afraid i cannot take today's class. We will continue from next week. I will make up for the missed class in our next classes. Sorry for the inconveniences caused!\n",
      "11/28/21, 7:38 AM - +91 83760 80602: No problem sir, take care\n",
      "11/28/21, 7:43 AM - Shankar Wagh: Ok sir, take care\n",
      "11/28/21, 7:56 AM - Sandip LB: Take care sir\n",
      "11/28/21, 8:33 AM - Satya Lb1: No Problem... Please take care\n",
      "\n"
     ]
    }
   ],
   "source": [
    "print(data)"
   ]
  },
  {
   "cell_type": "code",
   "execution_count": 5,
   "metadata": {},
   "outputs": [],
   "source": [
    "pattern = \"\\d{1,2}/\\d{1,2}/\\d{2,4},\\s\\d{1,2}:\\d{1,2}\\s?(?:AM|PM|am|pm)\\s-\\s\""
   ]
  },
  {
   "cell_type": "code",
   "execution_count": 6,
   "metadata": {},
   "outputs": [],
   "source": [
    "messages = re.split(pattern, data)[1:]"
   ]
  },
  {
   "cell_type": "code",
   "execution_count": 7,
   "metadata": {},
   "outputs": [
    {
     "data": {
      "text/plain": [
       "['Apoorva Nayyer Lb created group \"Lb_dsc_Jan 3rd Wknd\"\\n',\n",
       " 'You were added\\n',\n",
       " 'Sandip LB: Hey @917081929249 , our Power BI was completed by Rajeev Sir, I am late to find that Class 1 pdf notes are not available in the drive. Can you ask him for the same??\\n',\n",
       " 'Simran: Hi ...sure will ask him to upload\\n',\n",
       " 'Simran added +91 90022 73736\\n',\n",
       " '+91 90022 73736: Guys we will start in 5 mins\\n',\n",
       " \"Shankar Wagh: @917081929249 mam upload today's  lecture on lms( time series)\\n\",\n",
       " 'Simran: will be uploaded within 15 minutes\\n',\n",
       " 'Shankar Wagh: Ok thanks\\n',\n",
       " \"+91 90022 73736: Team am having extreme stomach aches this morning. I am afraid i cannot take today's class. We will continue from next week. I will make up for the missed class in our next classes. Sorry for the inconveniences caused!\\n\",\n",
       " '+91 83760 80602: No problem sir, take care\\n',\n",
       " 'Shankar Wagh: Ok sir, take care\\n',\n",
       " 'Sandip LB: Take care sir\\n',\n",
       " 'Satya Lb1: No Problem... Please take care\\n']"
      ]
     },
     "execution_count": 7,
     "metadata": {},
     "output_type": "execute_result"
    }
   ],
   "source": [
    "messages"
   ]
  },
  {
   "cell_type": "code",
   "execution_count": 8,
   "metadata": {},
   "outputs": [],
   "source": [
    "# pattern = \"\\d{1,2}/\\d{1,2}/\\d{2,4},\\s\\d{1,2}:\\d{1,2}\\s?(?:AM|PM|am|pm)\""
   ]
  },
  {
   "cell_type": "code",
   "execution_count": 9,
   "metadata": {},
   "outputs": [],
   "source": [
    "dates = re.findall(pattern, data)"
   ]
  },
  {
   "cell_type": "code",
   "execution_count": 10,
   "metadata": {},
   "outputs": [
    {
     "data": {
      "text/plain": [
       "['12/3/20, 12:12 PM - ',\n",
       " '12/3/20, 12:12 PM - ',\n",
       " '11/25/21, 8:18 AM - ',\n",
       " '11/25/21, 10:55 AM - ',\n",
       " '11/26/21, 6:54 PM - ',\n",
       " '11/27/21, 8:30 AM - ',\n",
       " '11/27/21, 4:59 PM - ',\n",
       " '11/27/21, 5:03 PM - ',\n",
       " '11/27/21, 5:03 PM - ',\n",
       " '11/28/21, 6:38 AM - ',\n",
       " '11/28/21, 7:38 AM - ',\n",
       " '11/28/21, 7:43 AM - ',\n",
       " '11/28/21, 7:56 AM - ',\n",
       " '11/28/21, 8:33 AM - ']"
      ]
     },
     "execution_count": 10,
     "metadata": {},
     "output_type": "execute_result"
    }
   ],
   "source": [
    "dates"
   ]
  },
  {
   "cell_type": "code",
   "execution_count": 11,
   "metadata": {
    "scrolled": true
   },
   "outputs": [
    {
     "data": {
      "text/html": [
       "<div>\n",
       "<style scoped>\n",
       "    .dataframe tbody tr th:only-of-type {\n",
       "        vertical-align: middle;\n",
       "    }\n",
       "\n",
       "    .dataframe tbody tr th {\n",
       "        vertical-align: top;\n",
       "    }\n",
       "\n",
       "    .dataframe thead th {\n",
       "        text-align: right;\n",
       "    }\n",
       "</style>\n",
       "<table border=\"1\" class=\"dataframe\">\n",
       "  <thead>\n",
       "    <tr style=\"text-align: right;\">\n",
       "      <th></th>\n",
       "      <th>user_message</th>\n",
       "      <th>date</th>\n",
       "    </tr>\n",
       "  </thead>\n",
       "  <tbody>\n",
       "    <tr>\n",
       "      <th>0</th>\n",
       "      <td>Apoorva Nayyer Lb created group \"Lb_dsc_Jan 3r...</td>\n",
       "      <td>2020-12-03 12:12:00</td>\n",
       "    </tr>\n",
       "    <tr>\n",
       "      <th>1</th>\n",
       "      <td>You were added\\n</td>\n",
       "      <td>2020-12-03 12:12:00</td>\n",
       "    </tr>\n",
       "    <tr>\n",
       "      <th>2</th>\n",
       "      <td>Sandip LB: Hey @917081929249 , our Power BI wa...</td>\n",
       "      <td>2021-11-25 08:18:00</td>\n",
       "    </tr>\n",
       "    <tr>\n",
       "      <th>3</th>\n",
       "      <td>Simran: Hi ...sure will ask him to upload\\n</td>\n",
       "      <td>2021-11-25 10:55:00</td>\n",
       "    </tr>\n",
       "    <tr>\n",
       "      <th>4</th>\n",
       "      <td>Simran added +91 90022 73736\\n</td>\n",
       "      <td>2021-11-26 18:54:00</td>\n",
       "    </tr>\n",
       "  </tbody>\n",
       "</table>\n",
       "</div>"
      ],
      "text/plain": [
       "                                        user_message                date\n",
       "0  Apoorva Nayyer Lb created group \"Lb_dsc_Jan 3r... 2020-12-03 12:12:00\n",
       "1                                   You were added\\n 2020-12-03 12:12:00\n",
       "2  Sandip LB: Hey @917081929249 , our Power BI wa... 2021-11-25 08:18:00\n",
       "3        Simran: Hi ...sure will ask him to upload\\n 2021-11-25 10:55:00\n",
       "4                     Simran added +91 90022 73736\\n 2021-11-26 18:54:00"
      ]
     },
     "execution_count": 11,
     "metadata": {},
     "output_type": "execute_result"
    }
   ],
   "source": [
    "df = pd.DataFrame({'user_message':messages, 'message_date':dates})\n",
    "df['message_date'] = pd.to_datetime(df['message_date'],format=\"%m/%d/%y, %I:%M %p - \")\n",
    "df.rename(columns={'message_date':'date'}, inplace=True)\n",
    "df.head()"
   ]
  },
  {
   "cell_type": "code",
   "execution_count": 12,
   "metadata": {},
   "outputs": [],
   "source": [
    "# separate user and message\n",
    "users = []\n",
    "messages = []\n",
    "for message in df['user_message']:\n",
    "    entry = re.split('([\\w\\W]+?):\\s', message)\n",
    "    if entry[1:]:\n",
    "        users.append(entry[1])\n",
    "        messages.append(entry[2])\n",
    "    else:\n",
    "        users.append('group_notification')\n",
    "        messages.append(entry[0])\n",
    "df['user'] = users\n",
    "df['message'] = messages"
   ]
  },
  {
   "cell_type": "code",
   "execution_count": 13,
   "metadata": {},
   "outputs": [],
   "source": [
    "df = df.drop('user_message',axis=1)"
   ]
  },
  {
   "cell_type": "code",
   "execution_count": 14,
   "metadata": {},
   "outputs": [
    {
     "data": {
      "text/html": [
       "<div>\n",
       "<style scoped>\n",
       "    .dataframe tbody tr th:only-of-type {\n",
       "        vertical-align: middle;\n",
       "    }\n",
       "\n",
       "    .dataframe tbody tr th {\n",
       "        vertical-align: top;\n",
       "    }\n",
       "\n",
       "    .dataframe thead th {\n",
       "        text-align: right;\n",
       "    }\n",
       "</style>\n",
       "<table border=\"1\" class=\"dataframe\">\n",
       "  <thead>\n",
       "    <tr style=\"text-align: right;\">\n",
       "      <th></th>\n",
       "      <th>date</th>\n",
       "      <th>user</th>\n",
       "      <th>message</th>\n",
       "    </tr>\n",
       "  </thead>\n",
       "  <tbody>\n",
       "    <tr>\n",
       "      <th>0</th>\n",
       "      <td>2020-12-03 12:12:00</td>\n",
       "      <td>group_notification</td>\n",
       "      <td>Apoorva Nayyer Lb created group \"Lb_dsc_Jan 3r...</td>\n",
       "    </tr>\n",
       "    <tr>\n",
       "      <th>1</th>\n",
       "      <td>2020-12-03 12:12:00</td>\n",
       "      <td>group_notification</td>\n",
       "      <td>You were added\\n</td>\n",
       "    </tr>\n",
       "    <tr>\n",
       "      <th>2</th>\n",
       "      <td>2021-11-25 08:18:00</td>\n",
       "      <td>Sandip LB</td>\n",
       "      <td>Hey @917081929249 , our Power BI was completed...</td>\n",
       "    </tr>\n",
       "    <tr>\n",
       "      <th>3</th>\n",
       "      <td>2021-11-25 10:55:00</td>\n",
       "      <td>Simran</td>\n",
       "      <td>Hi ...sure will ask him to upload\\n</td>\n",
       "    </tr>\n",
       "    <tr>\n",
       "      <th>4</th>\n",
       "      <td>2021-11-26 18:54:00</td>\n",
       "      <td>group_notification</td>\n",
       "      <td>Simran added +91 90022 73736\\n</td>\n",
       "    </tr>\n",
       "  </tbody>\n",
       "</table>\n",
       "</div>"
      ],
      "text/plain": [
       "                 date                user  \\\n",
       "0 2020-12-03 12:12:00  group_notification   \n",
       "1 2020-12-03 12:12:00  group_notification   \n",
       "2 2021-11-25 08:18:00           Sandip LB   \n",
       "3 2021-11-25 10:55:00              Simran   \n",
       "4 2021-11-26 18:54:00  group_notification   \n",
       "\n",
       "                                             message  \n",
       "0  Apoorva Nayyer Lb created group \"Lb_dsc_Jan 3r...  \n",
       "1                                   You were added\\n  \n",
       "2  Hey @917081929249 , our Power BI was completed...  \n",
       "3                Hi ...sure will ask him to upload\\n  \n",
       "4                     Simran added +91 90022 73736\\n  "
      ]
     },
     "execution_count": 14,
     "metadata": {},
     "output_type": "execute_result"
    }
   ],
   "source": [
    "df.head()"
   ]
  },
  {
   "cell_type": "code",
   "execution_count": 15,
   "metadata": {},
   "outputs": [],
   "source": [
    "df['year'] = df['date'].dt.year"
   ]
  },
  {
   "cell_type": "code",
   "execution_count": 16,
   "metadata": {},
   "outputs": [],
   "source": [
    "df['month'] = df['date'].dt.month_name()"
   ]
  },
  {
   "cell_type": "code",
   "execution_count": 17,
   "metadata": {},
   "outputs": [],
   "source": [
    "df['day'] = df['date'].dt.day"
   ]
  },
  {
   "cell_type": "code",
   "execution_count": 18,
   "metadata": {},
   "outputs": [],
   "source": [
    "df['hour'] = df['date'].dt.hour"
   ]
  },
  {
   "cell_type": "code",
   "execution_count": 19,
   "metadata": {},
   "outputs": [],
   "source": [
    "df['minute'] = df['date'].dt.minute"
   ]
  },
  {
   "cell_type": "code",
   "execution_count": 20,
   "metadata": {},
   "outputs": [
    {
     "data": {
      "text/html": [
       "<div>\n",
       "<style scoped>\n",
       "    .dataframe tbody tr th:only-of-type {\n",
       "        vertical-align: middle;\n",
       "    }\n",
       "\n",
       "    .dataframe tbody tr th {\n",
       "        vertical-align: top;\n",
       "    }\n",
       "\n",
       "    .dataframe thead th {\n",
       "        text-align: right;\n",
       "    }\n",
       "</style>\n",
       "<table border=\"1\" class=\"dataframe\">\n",
       "  <thead>\n",
       "    <tr style=\"text-align: right;\">\n",
       "      <th></th>\n",
       "      <th>date</th>\n",
       "      <th>user</th>\n",
       "      <th>message</th>\n",
       "      <th>year</th>\n",
       "      <th>month</th>\n",
       "      <th>day</th>\n",
       "      <th>hour</th>\n",
       "      <th>minute</th>\n",
       "    </tr>\n",
       "  </thead>\n",
       "  <tbody>\n",
       "    <tr>\n",
       "      <th>0</th>\n",
       "      <td>2020-12-03 12:12:00</td>\n",
       "      <td>group_notification</td>\n",
       "      <td>Apoorva Nayyer Lb created group \"Lb_dsc_Jan 3r...</td>\n",
       "      <td>2020</td>\n",
       "      <td>December</td>\n",
       "      <td>3</td>\n",
       "      <td>12</td>\n",
       "      <td>12</td>\n",
       "    </tr>\n",
       "    <tr>\n",
       "      <th>1</th>\n",
       "      <td>2020-12-03 12:12:00</td>\n",
       "      <td>group_notification</td>\n",
       "      <td>You were added\\n</td>\n",
       "      <td>2020</td>\n",
       "      <td>December</td>\n",
       "      <td>3</td>\n",
       "      <td>12</td>\n",
       "      <td>12</td>\n",
       "    </tr>\n",
       "    <tr>\n",
       "      <th>2</th>\n",
       "      <td>2021-11-25 08:18:00</td>\n",
       "      <td>Sandip LB</td>\n",
       "      <td>Hey @917081929249 , our Power BI was completed...</td>\n",
       "      <td>2021</td>\n",
       "      <td>November</td>\n",
       "      <td>25</td>\n",
       "      <td>8</td>\n",
       "      <td>18</td>\n",
       "    </tr>\n",
       "    <tr>\n",
       "      <th>3</th>\n",
       "      <td>2021-11-25 10:55:00</td>\n",
       "      <td>Simran</td>\n",
       "      <td>Hi ...sure will ask him to upload\\n</td>\n",
       "      <td>2021</td>\n",
       "      <td>November</td>\n",
       "      <td>25</td>\n",
       "      <td>10</td>\n",
       "      <td>55</td>\n",
       "    </tr>\n",
       "    <tr>\n",
       "      <th>4</th>\n",
       "      <td>2021-11-26 18:54:00</td>\n",
       "      <td>group_notification</td>\n",
       "      <td>Simran added +91 90022 73736\\n</td>\n",
       "      <td>2021</td>\n",
       "      <td>November</td>\n",
       "      <td>26</td>\n",
       "      <td>18</td>\n",
       "      <td>54</td>\n",
       "    </tr>\n",
       "  </tbody>\n",
       "</table>\n",
       "</div>"
      ],
      "text/plain": [
       "                 date                user  \\\n",
       "0 2020-12-03 12:12:00  group_notification   \n",
       "1 2020-12-03 12:12:00  group_notification   \n",
       "2 2021-11-25 08:18:00           Sandip LB   \n",
       "3 2021-11-25 10:55:00              Simran   \n",
       "4 2021-11-26 18:54:00  group_notification   \n",
       "\n",
       "                                             message  year     month  day  \\\n",
       "0  Apoorva Nayyer Lb created group \"Lb_dsc_Jan 3r...  2020  December    3   \n",
       "1                                   You were added\\n  2020  December    3   \n",
       "2  Hey @917081929249 , our Power BI was completed...  2021  November   25   \n",
       "3                Hi ...sure will ask him to upload\\n  2021  November   25   \n",
       "4                     Simran added +91 90022 73736\\n  2021  November   26   \n",
       "\n",
       "   hour  minute  \n",
       "0    12      12  \n",
       "1    12      12  \n",
       "2     8      18  \n",
       "3    10      55  \n",
       "4    18      54  "
      ]
     },
     "execution_count": 20,
     "metadata": {},
     "output_type": "execute_result"
    }
   ],
   "source": [
    "df.head()"
   ]
  },
  {
   "cell_type": "code",
   "execution_count": 21,
   "metadata": {},
   "outputs": [],
   "source": [
    "words = []\n",
    "for message in df['message']:\n",
    "    words.extend(message.split())"
   ]
  },
  {
   "cell_type": "code",
   "execution_count": 22,
   "metadata": {},
   "outputs": [
    {
     "data": {
      "text/plain": [
       "137"
      ]
     },
     "execution_count": 22,
     "metadata": {},
     "output_type": "execute_result"
    }
   ],
   "source": [
    "len(words)"
   ]
  },
  {
   "cell_type": "code",
   "execution_count": 23,
   "metadata": {},
   "outputs": [],
   "source": [
    "from urlextract import URLExtract\n",
    "extracter = URLExtract()\n",
    "urls = extracter.find_urls('hi this is myname.com, and gmail.com')"
   ]
  },
  {
   "cell_type": "code",
   "execution_count": 24,
   "metadata": {},
   "outputs": [
    {
     "data": {
      "text/plain": [
       "['myname.com', 'gmail.com']"
      ]
     },
     "execution_count": 24,
     "metadata": {},
     "output_type": "execute_result"
    }
   ],
   "source": [
    "urls"
   ]
  },
  {
   "cell_type": "code",
   "execution_count": 25,
   "metadata": {},
   "outputs": [],
   "source": [
    "links = []\n",
    "for message in df['message']:\n",
    "    links.extend(extracter.find_urls(message))"
   ]
  },
  {
   "cell_type": "code",
   "execution_count": 26,
   "metadata": {},
   "outputs": [
    {
     "data": {
      "text/plain": [
       "[]"
      ]
     },
     "execution_count": 26,
     "metadata": {},
     "output_type": "execute_result"
    }
   ],
   "source": [
    "links"
   ]
  },
  {
   "cell_type": "code",
   "execution_count": 27,
   "metadata": {},
   "outputs": [
    {
     "data": {
      "text/html": [
       "<div>\n",
       "<style scoped>\n",
       "    .dataframe tbody tr th:only-of-type {\n",
       "        vertical-align: middle;\n",
       "    }\n",
       "\n",
       "    .dataframe tbody tr th {\n",
       "        vertical-align: top;\n",
       "    }\n",
       "\n",
       "    .dataframe thead th {\n",
       "        text-align: right;\n",
       "    }\n",
       "</style>\n",
       "<table border=\"1\" class=\"dataframe\">\n",
       "  <thead>\n",
       "    <tr style=\"text-align: right;\">\n",
       "      <th></th>\n",
       "      <th>date</th>\n",
       "      <th>user</th>\n",
       "      <th>message</th>\n",
       "      <th>year</th>\n",
       "      <th>month</th>\n",
       "      <th>day</th>\n",
       "      <th>hour</th>\n",
       "      <th>minute</th>\n",
       "    </tr>\n",
       "  </thead>\n",
       "  <tbody>\n",
       "    <tr>\n",
       "      <th>0</th>\n",
       "      <td>2020-12-03 12:12:00</td>\n",
       "      <td>group_notification</td>\n",
       "      <td>Apoorva Nayyer Lb created group \"Lb_dsc_Jan 3r...</td>\n",
       "      <td>2020</td>\n",
       "      <td>December</td>\n",
       "      <td>3</td>\n",
       "      <td>12</td>\n",
       "      <td>12</td>\n",
       "    </tr>\n",
       "    <tr>\n",
       "      <th>1</th>\n",
       "      <td>2020-12-03 12:12:00</td>\n",
       "      <td>group_notification</td>\n",
       "      <td>You were added\\n</td>\n",
       "      <td>2020</td>\n",
       "      <td>December</td>\n",
       "      <td>3</td>\n",
       "      <td>12</td>\n",
       "      <td>12</td>\n",
       "    </tr>\n",
       "    <tr>\n",
       "      <th>2</th>\n",
       "      <td>2021-11-25 08:18:00</td>\n",
       "      <td>Sandip LB</td>\n",
       "      <td>Hey @917081929249 , our Power BI was completed...</td>\n",
       "      <td>2021</td>\n",
       "      <td>November</td>\n",
       "      <td>25</td>\n",
       "      <td>8</td>\n",
       "      <td>18</td>\n",
       "    </tr>\n",
       "    <tr>\n",
       "      <th>3</th>\n",
       "      <td>2021-11-25 10:55:00</td>\n",
       "      <td>Simran</td>\n",
       "      <td>Hi ...sure will ask him to upload\\n</td>\n",
       "      <td>2021</td>\n",
       "      <td>November</td>\n",
       "      <td>25</td>\n",
       "      <td>10</td>\n",
       "      <td>55</td>\n",
       "    </tr>\n",
       "    <tr>\n",
       "      <th>4</th>\n",
       "      <td>2021-11-26 18:54:00</td>\n",
       "      <td>group_notification</td>\n",
       "      <td>Simran added +91 90022 73736\\n</td>\n",
       "      <td>2021</td>\n",
       "      <td>November</td>\n",
       "      <td>26</td>\n",
       "      <td>18</td>\n",
       "      <td>54</td>\n",
       "    </tr>\n",
       "    <tr>\n",
       "      <th>5</th>\n",
       "      <td>2021-11-27 08:30:00</td>\n",
       "      <td>+91 90022 73736</td>\n",
       "      <td>Guys we will start in 5 mins\\n</td>\n",
       "      <td>2021</td>\n",
       "      <td>November</td>\n",
       "      <td>27</td>\n",
       "      <td>8</td>\n",
       "      <td>30</td>\n",
       "    </tr>\n",
       "    <tr>\n",
       "      <th>6</th>\n",
       "      <td>2021-11-27 16:59:00</td>\n",
       "      <td>Shankar Wagh</td>\n",
       "      <td>@917081929249 mam upload today's  lecture on l...</td>\n",
       "      <td>2021</td>\n",
       "      <td>November</td>\n",
       "      <td>27</td>\n",
       "      <td>16</td>\n",
       "      <td>59</td>\n",
       "    </tr>\n",
       "    <tr>\n",
       "      <th>7</th>\n",
       "      <td>2021-11-27 17:03:00</td>\n",
       "      <td>Simran</td>\n",
       "      <td>will be uploaded within 15 minutes\\n</td>\n",
       "      <td>2021</td>\n",
       "      <td>November</td>\n",
       "      <td>27</td>\n",
       "      <td>17</td>\n",
       "      <td>3</td>\n",
       "    </tr>\n",
       "    <tr>\n",
       "      <th>8</th>\n",
       "      <td>2021-11-27 17:03:00</td>\n",
       "      <td>Shankar Wagh</td>\n",
       "      <td>Ok thanks\\n</td>\n",
       "      <td>2021</td>\n",
       "      <td>November</td>\n",
       "      <td>27</td>\n",
       "      <td>17</td>\n",
       "      <td>3</td>\n",
       "    </tr>\n",
       "    <tr>\n",
       "      <th>9</th>\n",
       "      <td>2021-11-28 06:38:00</td>\n",
       "      <td>+91 90022 73736</td>\n",
       "      <td>Team am having extreme stomach aches this morn...</td>\n",
       "      <td>2021</td>\n",
       "      <td>November</td>\n",
       "      <td>28</td>\n",
       "      <td>6</td>\n",
       "      <td>38</td>\n",
       "    </tr>\n",
       "    <tr>\n",
       "      <th>10</th>\n",
       "      <td>2021-11-28 07:38:00</td>\n",
       "      <td>+91 83760 80602</td>\n",
       "      <td>No problem sir, take care\\n</td>\n",
       "      <td>2021</td>\n",
       "      <td>November</td>\n",
       "      <td>28</td>\n",
       "      <td>7</td>\n",
       "      <td>38</td>\n",
       "    </tr>\n",
       "    <tr>\n",
       "      <th>11</th>\n",
       "      <td>2021-11-28 07:43:00</td>\n",
       "      <td>Shankar Wagh</td>\n",
       "      <td>Ok sir, take care\\n</td>\n",
       "      <td>2021</td>\n",
       "      <td>November</td>\n",
       "      <td>28</td>\n",
       "      <td>7</td>\n",
       "      <td>43</td>\n",
       "    </tr>\n",
       "    <tr>\n",
       "      <th>12</th>\n",
       "      <td>2021-11-28 07:56:00</td>\n",
       "      <td>Sandip LB</td>\n",
       "      <td>Take care sir\\n</td>\n",
       "      <td>2021</td>\n",
       "      <td>November</td>\n",
       "      <td>28</td>\n",
       "      <td>7</td>\n",
       "      <td>56</td>\n",
       "    </tr>\n",
       "    <tr>\n",
       "      <th>13</th>\n",
       "      <td>2021-11-28 08:33:00</td>\n",
       "      <td>Satya Lb1</td>\n",
       "      <td>No Problem... Please take care\\n</td>\n",
       "      <td>2021</td>\n",
       "      <td>November</td>\n",
       "      <td>28</td>\n",
       "      <td>8</td>\n",
       "      <td>33</td>\n",
       "    </tr>\n",
       "  </tbody>\n",
       "</table>\n",
       "</div>"
      ],
      "text/plain": [
       "                  date                user  \\\n",
       "0  2020-12-03 12:12:00  group_notification   \n",
       "1  2020-12-03 12:12:00  group_notification   \n",
       "2  2021-11-25 08:18:00           Sandip LB   \n",
       "3  2021-11-25 10:55:00              Simran   \n",
       "4  2021-11-26 18:54:00  group_notification   \n",
       "5  2021-11-27 08:30:00     +91 90022 73736   \n",
       "6  2021-11-27 16:59:00        Shankar Wagh   \n",
       "7  2021-11-27 17:03:00              Simran   \n",
       "8  2021-11-27 17:03:00        Shankar Wagh   \n",
       "9  2021-11-28 06:38:00     +91 90022 73736   \n",
       "10 2021-11-28 07:38:00     +91 83760 80602   \n",
       "11 2021-11-28 07:43:00        Shankar Wagh   \n",
       "12 2021-11-28 07:56:00           Sandip LB   \n",
       "13 2021-11-28 08:33:00           Satya Lb1   \n",
       "\n",
       "                                              message  year     month  day  \\\n",
       "0   Apoorva Nayyer Lb created group \"Lb_dsc_Jan 3r...  2020  December    3   \n",
       "1                                    You were added\\n  2020  December    3   \n",
       "2   Hey @917081929249 , our Power BI was completed...  2021  November   25   \n",
       "3                 Hi ...sure will ask him to upload\\n  2021  November   25   \n",
       "4                      Simran added +91 90022 73736\\n  2021  November   26   \n",
       "5                      Guys we will start in 5 mins\\n  2021  November   27   \n",
       "6   @917081929249 mam upload today's  lecture on l...  2021  November   27   \n",
       "7                will be uploaded within 15 minutes\\n  2021  November   27   \n",
       "8                                         Ok thanks\\n  2021  November   27   \n",
       "9   Team am having extreme stomach aches this morn...  2021  November   28   \n",
       "10                        No problem sir, take care\\n  2021  November   28   \n",
       "11                                Ok sir, take care\\n  2021  November   28   \n",
       "12                                    Take care sir\\n  2021  November   28   \n",
       "13                   No Problem... Please take care\\n  2021  November   28   \n",
       "\n",
       "    hour  minute  \n",
       "0     12      12  \n",
       "1     12      12  \n",
       "2      8      18  \n",
       "3     10      55  \n",
       "4     18      54  \n",
       "5      8      30  \n",
       "6     16      59  \n",
       "7     17       3  \n",
       "8     17       3  \n",
       "9      6      38  \n",
       "10     7      38  \n",
       "11     7      43  \n",
       "12     7      56  \n",
       "13     8      33  "
      ]
     },
     "execution_count": 27,
     "metadata": {},
     "output_type": "execute_result"
    }
   ],
   "source": [
    "df"
   ]
  },
  {
   "cell_type": "code",
   "execution_count": 28,
   "metadata": {},
   "outputs": [],
   "source": [
    "x = df['user'].value_counts().head()"
   ]
  },
  {
   "cell_type": "code",
   "execution_count": 29,
   "metadata": {},
   "outputs": [],
   "source": [
    "name = x.index\n",
    "count = x.values"
   ]
  },
  {
   "cell_type": "code",
   "execution_count": 30,
   "metadata": {},
   "outputs": [],
   "source": [
    "import matplotlib.pyplot as plt"
   ]
  },
  {
   "cell_type": "code",
   "execution_count": 31,
   "metadata": {},
   "outputs": [
    {
     "data": {
      "text/plain": [
       "([0, 1, 2, 3, 4], <a list of 5 Text xticklabel objects>)"
      ]
     },
     "execution_count": 31,
     "metadata": {},
     "output_type": "execute_result"
    },
    {
     "data": {
      "image/png": "[encoded data removed]",
      "text/plain": [
       "<Figure size 432x288 with 1 Axes>"
      ]
     },
     "metadata": {
      "needs_background": "light"
     },
     "output_type": "display_data"
    }
   ],
   "source": [
    "plt.bar(name, count)\n",
    "plt.xticks(rotation='35')"
   ]
  },
  {
   "cell_type": "code",
   "execution_count": 32,
   "metadata": {},
   "outputs": [
    {
     "data": {
      "text/html": [
       "<div>\n",
       "<style scoped>\n",
       "    .dataframe tbody tr th:only-of-type {\n",
       "        vertical-align: middle;\n",
       "    }\n",
       "\n",
       "    .dataframe tbody tr th {\n",
       "        vertical-align: top;\n",
       "    }\n",
       "\n",
       "    .dataframe thead th {\n",
       "        text-align: right;\n",
       "    }\n",
       "</style>\n",
       "<table border=\"1\" class=\"dataframe\">\n",
       "  <thead>\n",
       "    <tr style=\"text-align: right;\">\n",
       "      <th></th>\n",
       "      <th>name</th>\n",
       "      <th>percent</th>\n",
       "    </tr>\n",
       "  </thead>\n",
       "  <tbody>\n",
       "    <tr>\n",
       "      <th>0</th>\n",
       "      <td>group_notification</td>\n",
       "      <td>21.43</td>\n",
       "    </tr>\n",
       "    <tr>\n",
       "      <th>1</th>\n",
       "      <td>Shankar Wagh</td>\n",
       "      <td>21.43</td>\n",
       "    </tr>\n",
       "    <tr>\n",
       "      <th>2</th>\n",
       "      <td>Sandip LB</td>\n",
       "      <td>14.29</td>\n",
       "    </tr>\n",
       "    <tr>\n",
       "      <th>3</th>\n",
       "      <td>Simran</td>\n",
       "      <td>14.29</td>\n",
       "    </tr>\n",
       "    <tr>\n",
       "      <th>4</th>\n",
       "      <td>+91 90022 73736</td>\n",
       "      <td>14.29</td>\n",
       "    </tr>\n",
       "    <tr>\n",
       "      <th>5</th>\n",
       "      <td>+91 83760 80602</td>\n",
       "      <td>7.14</td>\n",
       "    </tr>\n",
       "    <tr>\n",
       "      <th>6</th>\n",
       "      <td>Satya Lb1</td>\n",
       "      <td>7.14</td>\n",
       "    </tr>\n",
       "  </tbody>\n",
       "</table>\n",
       "</div>"
      ],
      "text/plain": [
       "                 name  percent\n",
       "0  group_notification    21.43\n",
       "1        Shankar Wagh    21.43\n",
       "2           Sandip LB    14.29\n",
       "3              Simran    14.29\n",
       "4     +91 90022 73736    14.29\n",
       "5     +91 83760 80602     7.14\n",
       "6           Satya Lb1     7.14"
      ]
     },
     "execution_count": 32,
     "metadata": {},
     "output_type": "execute_result"
    }
   ],
   "source": [
    "round(df['user'].value_counts()/df.shape[0]*100,2).reset_index().rename(columns={'index':'name', 'user':'percent'})"
   ]
  },
  {
   "cell_type": "code",
   "execution_count": 33,
   "metadata": {},
   "outputs": [],
   "source": [
    "temp = df[df['user'] != 'group_notification']\n",
    "temp = temp[temp['message'] != '<Media omitted>\\n']"
   ]
  },
  {
   "cell_type": "code",
   "execution_count": 34,
   "metadata": {},
   "outputs": [
    {
     "data": {
      "text/html": [
       "<div>\n",
       "<style scoped>\n",
       "    .dataframe tbody tr th:only-of-type {\n",
       "        vertical-align: middle;\n",
       "    }\n",
       "\n",
       "    .dataframe tbody tr th {\n",
       "        vertical-align: top;\n",
       "    }\n",
       "\n",
       "    .dataframe thead th {\n",
       "        text-align: right;\n",
       "    }\n",
       "</style>\n",
       "<table border=\"1\" class=\"dataframe\">\n",
       "  <thead>\n",
       "    <tr style=\"text-align: right;\">\n",
       "      <th></th>\n",
       "      <th>date</th>\n",
       "      <th>user</th>\n",
       "      <th>message</th>\n",
       "      <th>year</th>\n",
       "      <th>month</th>\n",
       "      <th>day</th>\n",
       "      <th>hour</th>\n",
       "      <th>minute</th>\n",
       "    </tr>\n",
       "  </thead>\n",
       "  <tbody>\n",
       "    <tr>\n",
       "      <th>2</th>\n",
       "      <td>2021-11-25 08:18:00</td>\n",
       "      <td>Sandip LB</td>\n",
       "      <td>Hey @917081929249 , our Power BI was completed...</td>\n",
       "      <td>2021</td>\n",
       "      <td>November</td>\n",
       "      <td>25</td>\n",
       "      <td>8</td>\n",
       "      <td>18</td>\n",
       "    </tr>\n",
       "    <tr>\n",
       "      <th>3</th>\n",
       "      <td>2021-11-25 10:55:00</td>\n",
       "      <td>Simran</td>\n",
       "      <td>Hi ...sure will ask him to upload\\n</td>\n",
       "      <td>2021</td>\n",
       "      <td>November</td>\n",
       "      <td>25</td>\n",
       "      <td>10</td>\n",
       "      <td>55</td>\n",
       "    </tr>\n",
       "    <tr>\n",
       "      <th>5</th>\n",
       "      <td>2021-11-27 08:30:00</td>\n",
       "      <td>+91 90022 73736</td>\n",
       "      <td>Guys we will start in 5 mins\\n</td>\n",
       "      <td>2021</td>\n",
       "      <td>November</td>\n",
       "      <td>27</td>\n",
       "      <td>8</td>\n",
       "      <td>30</td>\n",
       "    </tr>\n",
       "    <tr>\n",
       "      <th>6</th>\n",
       "      <td>2021-11-27 16:59:00</td>\n",
       "      <td>Shankar Wagh</td>\n",
       "      <td>@917081929249 mam upload today's  lecture on l...</td>\n",
       "      <td>2021</td>\n",
       "      <td>November</td>\n",
       "      <td>27</td>\n",
       "      <td>16</td>\n",
       "      <td>59</td>\n",
       "    </tr>\n",
       "    <tr>\n",
       "      <th>7</th>\n",
       "      <td>2021-11-27 17:03:00</td>\n",
       "      <td>Simran</td>\n",
       "      <td>will be uploaded within 15 minutes\\n</td>\n",
       "      <td>2021</td>\n",
       "      <td>November</td>\n",
       "      <td>27</td>\n",
       "      <td>17</td>\n",
       "      <td>3</td>\n",
       "    </tr>\n",
       "    <tr>\n",
       "      <th>8</th>\n",
       "      <td>2021-11-27 17:03:00</td>\n",
       "      <td>Shankar Wagh</td>\n",
       "      <td>Ok thanks\\n</td>\n",
       "      <td>2021</td>\n",
       "      <td>November</td>\n",
       "      <td>27</td>\n",
       "      <td>17</td>\n",
       "      <td>3</td>\n",
       "    </tr>\n",
       "    <tr>\n",
       "      <th>9</th>\n",
       "      <td>2021-11-28 06:38:00</td>\n",
       "      <td>+91 90022 73736</td>\n",
       "      <td>Team am having extreme stomach aches this morn...</td>\n",
       "      <td>2021</td>\n",
       "      <td>November</td>\n",
       "      <td>28</td>\n",
       "      <td>6</td>\n",
       "      <td>38</td>\n",
       "    </tr>\n",
       "    <tr>\n",
       "      <th>10</th>\n",
       "      <td>2021-11-28 07:38:00</td>\n",
       "      <td>+91 83760 80602</td>\n",
       "      <td>No problem sir, take care\\n</td>\n",
       "      <td>2021</td>\n",
       "      <td>November</td>\n",
       "      <td>28</td>\n",
       "      <td>7</td>\n",
       "      <td>38</td>\n",
       "    </tr>\n",
       "    <tr>\n",
       "      <th>11</th>\n",
       "      <td>2021-11-28 07:43:00</td>\n",
       "      <td>Shankar Wagh</td>\n",
       "      <td>Ok sir, take care\\n</td>\n",
       "      <td>2021</td>\n",
       "      <td>November</td>\n",
       "      <td>28</td>\n",
       "      <td>7</td>\n",
       "      <td>43</td>\n",
       "    </tr>\n",
       "    <tr>\n",
       "      <th>12</th>\n",
       "      <td>2021-11-28 07:56:00</td>\n",
       "      <td>Sandip LB</td>\n",
       "      <td>Take care sir\\n</td>\n",
       "      <td>2021</td>\n",
       "      <td>November</td>\n",
       "      <td>28</td>\n",
       "      <td>7</td>\n",
       "      <td>56</td>\n",
       "    </tr>\n",
       "    <tr>\n",
       "      <th>13</th>\n",
       "      <td>2021-11-28 08:33:00</td>\n",
       "      <td>Satya Lb1</td>\n",
       "      <td>No Problem... Please take care\\n</td>\n",
       "      <td>2021</td>\n",
       "      <td>November</td>\n",
       "      <td>28</td>\n",
       "      <td>8</td>\n",
       "      <td>33</td>\n",
       "    </tr>\n",
       "  </tbody>\n",
       "</table>\n",
       "</div>"
      ],
      "text/plain": [
       "                  date             user  \\\n",
       "2  2021-11-25 08:18:00        Sandip LB   \n",
       "3  2021-11-25 10:55:00           Simran   \n",
       "5  2021-11-27 08:30:00  +91 90022 73736   \n",
       "6  2021-11-27 16:59:00     Shankar Wagh   \n",
       "7  2021-11-27 17:03:00           Simran   \n",
       "8  2021-11-27 17:03:00     Shankar Wagh   \n",
       "9  2021-11-28 06:38:00  +91 90022 73736   \n",
       "10 2021-11-28 07:38:00  +91 83760 80602   \n",
       "11 2021-11-28 07:43:00     Shankar Wagh   \n",
       "12 2021-11-28 07:56:00        Sandip LB   \n",
       "13 2021-11-28 08:33:00        Satya Lb1   \n",
       "\n",
       "                                              message  year     month  day  \\\n",
       "2   Hey @917081929249 , our Power BI was completed...  2021  November   25   \n",
       "3                 Hi ...sure will ask him to upload\\n  2021  November   25   \n",
       "5                      Guys we will start in 5 mins\\n  2021  November   27   \n",
       "6   @917081929249 mam upload today's  lecture on l...  2021  November   27   \n",
       "7                will be uploaded within 15 minutes\\n  2021  November   27   \n",
       "8                                         Ok thanks\\n  2021  November   27   \n",
       "9   Team am having extreme stomach aches this morn...  2021  November   28   \n",
       "10                        No problem sir, take care\\n  2021  November   28   \n",
       "11                                Ok sir, take care\\n  2021  November   28   \n",
       "12                                    Take care sir\\n  2021  November   28   \n",
       "13                   No Problem... Please take care\\n  2021  November   28   \n",
       "\n",
       "    hour  minute  \n",
       "2      8      18  \n",
       "3     10      55  \n",
       "5      8      30  \n",
       "6     16      59  \n",
       "7     17       3  \n",
       "8     17       3  \n",
       "9      6      38  \n",
       "10     7      38  \n",
       "11     7      43  \n",
       "12     7      56  \n",
       "13     8      33  "
      ]
     },
     "execution_count": 34,
     "metadata": {},
     "output_type": "execute_result"
    }
   ],
   "source": [
    "temp"
   ]
  },
  {
   "cell_type": "code",
   "execution_count": 35,
   "metadata": {},
   "outputs": [],
   "source": [
    "import nltk"
   ]
  },
  {
   "cell_type": "code",
   "execution_count": 36,
   "metadata": {},
   "outputs": [],
   "source": [
    "from nltk.corpus import stopwords"
   ]
  },
  {
   "cell_type": "code",
   "execution_count": 37,
   "metadata": {},
   "outputs": [],
   "source": [
    "stopwords_eng = stopwords.words('english')"
   ]
  },
  {
   "cell_type": "code",
   "execution_count": 38,
   "metadata": {},
   "outputs": [],
   "source": [
    "f = open('stop_hinglish.txt',encoding='utf-8')"
   ]
  },
  {
   "cell_type": "code",
   "execution_count": 39,
   "metadata": {},
   "outputs": [],
   "source": [
    "stop_words_hing = f.read()"
   ]
  },
  {
   "cell_type": "code",
   "execution_count": 40,
   "metadata": {},
   "outputs": [
    {
     "data": {
      "text/plain": [
       "179"
      ]
     },
     "execution_count": 40,
     "metadata": {},
     "output_type": "execute_result"
    }
   ],
   "source": [
    "len(stopwords_eng)"
   ]
  },
  {
   "cell_type": "code",
   "execution_count": 41,
   "metadata": {},
   "outputs": [
    {
     "data": {
      "text/plain": [
       "6008"
      ]
     },
     "execution_count": 41,
     "metadata": {},
     "output_type": "execute_result"
    }
   ],
   "source": [
    "len(stop_words_hing)"
   ]
  },
  {
   "cell_type": "code",
   "execution_count": 42,
   "metadata": {},
   "outputs": [
    {
     "data": {
      "text/plain": [
       "6187"
      ]
     },
     "execution_count": 42,
     "metadata": {},
     "output_type": "execute_result"
    }
   ],
   "source": [
    "len(stopwords_eng) + len(stop_words_hing)"
   ]
  },
  {
   "cell_type": "code",
   "execution_count": 43,
   "metadata": {
    "scrolled": false
   },
   "outputs": [],
   "source": [
    "for word in stop_words_hing:\n",
    "    stopwords_eng.extend(word)"
   ]
  },
  {
   "cell_type": "code",
   "execution_count": 44,
   "metadata": {},
   "outputs": [
    {
     "data": {
      "text/plain": [
       "6187"
      ]
     },
     "execution_count": 44,
     "metadata": {},
     "output_type": "execute_result"
    }
   ],
   "source": [
    "len(stopwords_eng)"
   ]
  },
  {
   "cell_type": "code",
   "execution_count": 45,
   "metadata": {},
   "outputs": [],
   "source": [
    "words = []\n",
    "for message in temp['message']:\n",
    "    for word in message.lower().split():\n",
    "        if word not in stopwords_eng:\n",
    "            words.append(word)"
   ]
  },
  {
   "cell_type": "code",
   "execution_count": 46,
   "metadata": {
    "scrolled": true
   },
   "outputs": [
    {
     "data": {
      "text/html": [
       "<div>\n",
       "<style scoped>\n",
       "    .dataframe tbody tr th:only-of-type {\n",
       "        vertical-align: middle;\n",
       "    }\n",
       "\n",
       "    .dataframe tbody tr th {\n",
       "        vertical-align: top;\n",
       "    }\n",
       "\n",
       "    .dataframe thead th {\n",
       "        text-align: right;\n",
       "    }\n",
       "</style>\n",
       "<table border=\"1\" class=\"dataframe\">\n",
       "  <thead>\n",
       "    <tr style=\"text-align: right;\">\n",
       "      <th></th>\n",
       "      <th>0</th>\n",
       "      <th>1</th>\n",
       "    </tr>\n",
       "  </thead>\n",
       "  <tbody>\n",
       "    <tr>\n",
       "      <th>0</th>\n",
       "      <td>take</td>\n",
       "      <td>5</td>\n",
       "    </tr>\n",
       "    <tr>\n",
       "      <th>1</th>\n",
       "      <td>care</td>\n",
       "      <td>4</td>\n",
       "    </tr>\n",
       "    <tr>\n",
       "      <th>2</th>\n",
       "      <td>sir,</td>\n",
       "      <td>3</td>\n",
       "    </tr>\n",
       "    <tr>\n",
       "      <th>3</th>\n",
       "      <td>@917081929249</td>\n",
       "      <td>2</td>\n",
       "    </tr>\n",
       "    <tr>\n",
       "      <th>4</th>\n",
       "      <td>class</td>\n",
       "      <td>2</td>\n",
       "    </tr>\n",
       "    <tr>\n",
       "      <th>5</th>\n",
       "      <td>ask</td>\n",
       "      <td>2</td>\n",
       "    </tr>\n",
       "    <tr>\n",
       "      <th>6</th>\n",
       "      <td>upload</td>\n",
       "      <td>2</td>\n",
       "    </tr>\n",
       "    <tr>\n",
       "      <th>7</th>\n",
       "      <td>today's</td>\n",
       "      <td>2</td>\n",
       "    </tr>\n",
       "    <tr>\n",
       "      <th>8</th>\n",
       "      <td>ok</td>\n",
       "      <td>2</td>\n",
       "    </tr>\n",
       "    <tr>\n",
       "      <th>9</th>\n",
       "      <td>next</td>\n",
       "      <td>2</td>\n",
       "    </tr>\n",
       "    <tr>\n",
       "      <th>10</th>\n",
       "      <td>hey</td>\n",
       "      <td>1</td>\n",
       "    </tr>\n",
       "    <tr>\n",
       "      <th>11</th>\n",
       "      <td>,</td>\n",
       "      <td>1</td>\n",
       "    </tr>\n",
       "    <tr>\n",
       "      <th>12</th>\n",
       "      <td>power</td>\n",
       "      <td>1</td>\n",
       "    </tr>\n",
       "    <tr>\n",
       "      <th>13</th>\n",
       "      <td>bi</td>\n",
       "      <td>1</td>\n",
       "    </tr>\n",
       "    <tr>\n",
       "      <th>14</th>\n",
       "      <td>completed</td>\n",
       "      <td>1</td>\n",
       "    </tr>\n",
       "    <tr>\n",
       "      <th>15</th>\n",
       "      <td>rajeev</td>\n",
       "      <td>1</td>\n",
       "    </tr>\n",
       "    <tr>\n",
       "      <th>16</th>\n",
       "      <td>late</td>\n",
       "      <td>1</td>\n",
       "    </tr>\n",
       "    <tr>\n",
       "      <th>17</th>\n",
       "      <td>find</td>\n",
       "      <td>1</td>\n",
       "    </tr>\n",
       "    <tr>\n",
       "      <th>18</th>\n",
       "      <td>pdf</td>\n",
       "      <td>1</td>\n",
       "    </tr>\n",
       "    <tr>\n",
       "      <th>19</th>\n",
       "      <td>notes</td>\n",
       "      <td>1</td>\n",
       "    </tr>\n",
       "  </tbody>\n",
       "</table>\n",
       "</div>"
      ],
      "text/plain": [
       "                0  1\n",
       "0            take  5\n",
       "1            care  4\n",
       "2            sir,  3\n",
       "3   @917081929249  2\n",
       "4           class  2\n",
       "5             ask  2\n",
       "6          upload  2\n",
       "7         today's  2\n",
       "8              ok  2\n",
       "9            next  2\n",
       "10            hey  1\n",
       "11              ,  1\n",
       "12          power  1\n",
       "13             bi  1\n",
       "14      completed  1\n",
       "15         rajeev  1\n",
       "16           late  1\n",
       "17           find  1\n",
       "18            pdf  1\n",
       "19          notes  1"
      ]
     },
     "execution_count": 46,
     "metadata": {},
     "output_type": "execute_result"
    }
   ],
   "source": [
    "from collections import Counter\n",
    "pd.DataFrame(Counter(words).most_common(20))"
   ]
  },
  {
   "cell_type": "code",
   "execution_count": 47,
   "metadata": {},
   "outputs": [],
   "source": [
    "# !pip install emoji"
   ]
  },
  {
   "cell_type": "code",
   "execution_count": 48,
   "metadata": {},
   "outputs": [],
   "source": [
    "import emoji"
   ]
  },
  {
   "cell_type": "code",
   "execution_count": 49,
   "metadata": {},
   "outputs": [],
   "source": [
    "emojis = []\n",
    "for message in df['message']:\n",
    "    emojis.extend([c for c in message if c in emoji.UNICODE_EMOJI['en']])"
   ]
  },
  {
   "cell_type": "code",
   "execution_count": 50,
   "metadata": {},
   "outputs": [
    {
     "data": {
      "text/html": [
       "<div>\n",
       "<style scoped>\n",
       "    .dataframe tbody tr th:only-of-type {\n",
       "        vertical-align: middle;\n",
       "    }\n",
       "\n",
       "    .dataframe tbody tr th {\n",
       "        vertical-align: top;\n",
       "    }\n",
       "\n",
       "    .dataframe thead th {\n",
       "        text-align: right;\n",
       "    }\n",
       "</style>\n",
       "<table border=\"1\" class=\"dataframe\">\n",
       "  <thead>\n",
       "    <tr style=\"text-align: right;\">\n",
       "      <th></th>\n",
       "    </tr>\n",
       "  </thead>\n",
       "  <tbody>\n",
       "  </tbody>\n",
       "</table>\n",
       "</div>"
      ],
      "text/plain": [
       "Empty DataFrame\n",
       "Columns: []\n",
       "Index: []"
      ]
     },
     "execution_count": 50,
     "metadata": {},
     "output_type": "execute_result"
    }
   ],
   "source": [
    "pd.DataFrame(Counter(emojis).most_common(len(Counter(emojis))))"
   ]
  },
  {
   "cell_type": "code",
   "execution_count": 51,
   "metadata": {},
   "outputs": [],
   "source": [
    "df['month_num'] = df['date'].dt.month"
   ]
  },
  {
   "cell_type": "code",
   "execution_count": 52,
   "metadata": {},
   "outputs": [
    {
     "data": {
      "text/html": [
       "<div>\n",
       "<style scoped>\n",
       "    .dataframe tbody tr th:only-of-type {\n",
       "        vertical-align: middle;\n",
       "    }\n",
       "\n",
       "    .dataframe tbody tr th {\n",
       "        vertical-align: top;\n",
       "    }\n",
       "\n",
       "    .dataframe thead th {\n",
       "        text-align: right;\n",
       "    }\n",
       "</style>\n",
       "<table border=\"1\" class=\"dataframe\">\n",
       "  <thead>\n",
       "    <tr style=\"text-align: right;\">\n",
       "      <th></th>\n",
       "      <th>date</th>\n",
       "      <th>user</th>\n",
       "      <th>message</th>\n",
       "      <th>year</th>\n",
       "      <th>month</th>\n",
       "      <th>day</th>\n",
       "      <th>hour</th>\n",
       "      <th>minute</th>\n",
       "      <th>month_num</th>\n",
       "    </tr>\n",
       "  </thead>\n",
       "  <tbody>\n",
       "    <tr>\n",
       "      <th>0</th>\n",
       "      <td>2020-12-03 12:12:00</td>\n",
       "      <td>group_notification</td>\n",
       "      <td>Apoorva Nayyer Lb created group \"Lb_dsc_Jan 3r...</td>\n",
       "      <td>2020</td>\n",
       "      <td>December</td>\n",
       "      <td>3</td>\n",
       "      <td>12</td>\n",
       "      <td>12</td>\n",
       "      <td>12</td>\n",
       "    </tr>\n",
       "    <tr>\n",
       "      <th>1</th>\n",
       "      <td>2020-12-03 12:12:00</td>\n",
       "      <td>group_notification</td>\n",
       "      <td>You were added\\n</td>\n",
       "      <td>2020</td>\n",
       "      <td>December</td>\n",
       "      <td>3</td>\n",
       "      <td>12</td>\n",
       "      <td>12</td>\n",
       "      <td>12</td>\n",
       "    </tr>\n",
       "    <tr>\n",
       "      <th>2</th>\n",
       "      <td>2021-11-25 08:18:00</td>\n",
       "      <td>Sandip LB</td>\n",
       "      <td>Hey @917081929249 , our Power BI was completed...</td>\n",
       "      <td>2021</td>\n",
       "      <td>November</td>\n",
       "      <td>25</td>\n",
       "      <td>8</td>\n",
       "      <td>18</td>\n",
       "      <td>11</td>\n",
       "    </tr>\n",
       "    <tr>\n",
       "      <th>3</th>\n",
       "      <td>2021-11-25 10:55:00</td>\n",
       "      <td>Simran</td>\n",
       "      <td>Hi ...sure will ask him to upload\\n</td>\n",
       "      <td>2021</td>\n",
       "      <td>November</td>\n",
       "      <td>25</td>\n",
       "      <td>10</td>\n",
       "      <td>55</td>\n",
       "      <td>11</td>\n",
       "    </tr>\n",
       "    <tr>\n",
       "      <th>4</th>\n",
       "      <td>2021-11-26 18:54:00</td>\n",
       "      <td>group_notification</td>\n",
       "      <td>Simran added +91 90022 73736\\n</td>\n",
       "      <td>2021</td>\n",
       "      <td>November</td>\n",
       "      <td>26</td>\n",
       "      <td>18</td>\n",
       "      <td>54</td>\n",
       "      <td>11</td>\n",
       "    </tr>\n",
       "    <tr>\n",
       "      <th>5</th>\n",
       "      <td>2021-11-27 08:30:00</td>\n",
       "      <td>+91 90022 73736</td>\n",
       "      <td>Guys we will start in 5 mins\\n</td>\n",
       "      <td>2021</td>\n",
       "      <td>November</td>\n",
       "      <td>27</td>\n",
       "      <td>8</td>\n",
       "      <td>30</td>\n",
       "      <td>11</td>\n",
       "    </tr>\n",
       "    <tr>\n",
       "      <th>6</th>\n",
       "      <td>2021-11-27 16:59:00</td>\n",
       "      <td>Shankar Wagh</td>\n",
       "      <td>@917081929249 mam upload today's  lecture on l...</td>\n",
       "      <td>2021</td>\n",
       "      <td>November</td>\n",
       "      <td>27</td>\n",
       "      <td>16</td>\n",
       "      <td>59</td>\n",
       "      <td>11</td>\n",
       "    </tr>\n",
       "    <tr>\n",
       "      <th>7</th>\n",
       "      <td>2021-11-27 17:03:00</td>\n",
       "      <td>Simran</td>\n",
       "      <td>will be uploaded within 15 minutes\\n</td>\n",
       "      <td>2021</td>\n",
       "      <td>November</td>\n",
       "      <td>27</td>\n",
       "      <td>17</td>\n",
       "      <td>3</td>\n",
       "      <td>11</td>\n",
       "    </tr>\n",
       "    <tr>\n",
       "      <th>8</th>\n",
       "      <td>2021-11-27 17:03:00</td>\n",
       "      <td>Shankar Wagh</td>\n",
       "      <td>Ok thanks\\n</td>\n",
       "      <td>2021</td>\n",
       "      <td>November</td>\n",
       "      <td>27</td>\n",
       "      <td>17</td>\n",
       "      <td>3</td>\n",
       "      <td>11</td>\n",
       "    </tr>\n",
       "    <tr>\n",
       "      <th>9</th>\n",
       "      <td>2021-11-28 06:38:00</td>\n",
       "      <td>+91 90022 73736</td>\n",
       "      <td>Team am having extreme stomach aches this morn...</td>\n",
       "      <td>2021</td>\n",
       "      <td>November</td>\n",
       "      <td>28</td>\n",
       "      <td>6</td>\n",
       "      <td>38</td>\n",
       "      <td>11</td>\n",
       "    </tr>\n",
       "    <tr>\n",
       "      <th>10</th>\n",
       "      <td>2021-11-28 07:38:00</td>\n",
       "      <td>+91 83760 80602</td>\n",
       "      <td>No problem sir, take care\\n</td>\n",
       "      <td>2021</td>\n",
       "      <td>November</td>\n",
       "      <td>28</td>\n",
       "      <td>7</td>\n",
       "      <td>38</td>\n",
       "      <td>11</td>\n",
       "    </tr>\n",
       "    <tr>\n",
       "      <th>11</th>\n",
       "      <td>2021-11-28 07:43:00</td>\n",
       "      <td>Shankar Wagh</td>\n",
       "      <td>Ok sir, take care\\n</td>\n",
       "      <td>2021</td>\n",
       "      <td>November</td>\n",
       "      <td>28</td>\n",
       "      <td>7</td>\n",
       "      <td>43</td>\n",
       "      <td>11</td>\n",
       "    </tr>\n",
       "    <tr>\n",
       "      <th>12</th>\n",
       "      <td>2021-11-28 07:56:00</td>\n",
       "      <td>Sandip LB</td>\n",
       "      <td>Take care sir\\n</td>\n",
       "      <td>2021</td>\n",
       "      <td>November</td>\n",
       "      <td>28</td>\n",
       "      <td>7</td>\n",
       "      <td>56</td>\n",
       "      <td>11</td>\n",
       "    </tr>\n",
       "    <tr>\n",
       "      <th>13</th>\n",
       "      <td>2021-11-28 08:33:00</td>\n",
       "      <td>Satya Lb1</td>\n",
       "      <td>No Problem... Please take care\\n</td>\n",
       "      <td>2021</td>\n",
       "      <td>November</td>\n",
       "      <td>28</td>\n",
       "      <td>8</td>\n",
       "      <td>33</td>\n",
       "      <td>11</td>\n",
       "    </tr>\n",
       "  </tbody>\n",
       "</table>\n",
       "</div>"
      ],
      "text/plain": [
       "                  date                user  \\\n",
       "0  2020-12-03 12:12:00  group_notification   \n",
       "1  2020-12-03 12:12:00  group_notification   \n",
       "2  2021-11-25 08:18:00           Sandip LB   \n",
       "3  2021-11-25 10:55:00              Simran   \n",
       "4  2021-11-26 18:54:00  group_notification   \n",
       "5  2021-11-27 08:30:00     +91 90022 73736   \n",
       "6  2021-11-27 16:59:00        Shankar Wagh   \n",
       "7  2021-11-27 17:03:00              Simran   \n",
       "8  2021-11-27 17:03:00        Shankar Wagh   \n",
       "9  2021-11-28 06:38:00     +91 90022 73736   \n",
       "10 2021-11-28 07:38:00     +91 83760 80602   \n",
       "11 2021-11-28 07:43:00        Shankar Wagh   \n",
       "12 2021-11-28 07:56:00           Sandip LB   \n",
       "13 2021-11-28 08:33:00           Satya Lb1   \n",
       "\n",
       "                                              message  year     month  day  \\\n",
       "0   Apoorva Nayyer Lb created group \"Lb_dsc_Jan 3r...  2020  December    3   \n",
       "1                                    You were added\\n  2020  December    3   \n",
       "2   Hey @917081929249 , our Power BI was completed...  2021  November   25   \n",
       "3                 Hi ...sure will ask him to upload\\n  2021  November   25   \n",
       "4                      Simran added +91 90022 73736\\n  2021  November   26   \n",
       "5                      Guys we will start in 5 mins\\n  2021  November   27   \n",
       "6   @917081929249 mam upload today's  lecture on l...  2021  November   27   \n",
       "7                will be uploaded within 15 minutes\\n  2021  November   27   \n",
       "8                                         Ok thanks\\n  2021  November   27   \n",
       "9   Team am having extreme stomach aches this morn...  2021  November   28   \n",
       "10                        No problem sir, take care\\n  2021  November   28   \n",
       "11                                Ok sir, take care\\n  2021  November   28   \n",
       "12                                    Take care sir\\n  2021  November   28   \n",
       "13                   No Problem... Please take care\\n  2021  November   28   \n",
       "\n",
       "    hour  minute  month_num  \n",
       "0     12      12         12  \n",
       "1     12      12         12  \n",
       "2      8      18         11  \n",
       "3     10      55         11  \n",
       "4     18      54         11  \n",
       "5      8      30         11  \n",
       "6     16      59         11  \n",
       "7     17       3         11  \n",
       "8     17       3         11  \n",
       "9      6      38         11  \n",
       "10     7      38         11  \n",
       "11     7      43         11  \n",
       "12     7      56         11  \n",
       "13     8      33         11  "
      ]
     },
     "execution_count": 52,
     "metadata": {},
     "output_type": "execute_result"
    }
   ],
   "source": [
    "df"
   ]
  },
  {
   "cell_type": "code",
   "execution_count": 53,
   "metadata": {},
   "outputs": [],
   "source": [
    "timeline = df.groupby(['year','month_num','month']).count()['message'].reset_index()"
   ]
  },
  {
   "cell_type": "code",
   "execution_count": 54,
   "metadata": {},
   "outputs": [
    {
     "data": {
      "text/html": [
       "<div>\n",
       "<style scoped>\n",
       "    .dataframe tbody tr th:only-of-type {\n",
       "        vertical-align: middle;\n",
       "    }\n",
       "\n",
       "    .dataframe tbody tr th {\n",
       "        vertical-align: top;\n",
       "    }\n",
       "\n",
       "    .dataframe thead th {\n",
       "        text-align: right;\n",
       "    }\n",
       "</style>\n",
       "<table border=\"1\" class=\"dataframe\">\n",
       "  <thead>\n",
       "    <tr style=\"text-align: right;\">\n",
       "      <th></th>\n",
       "      <th>year</th>\n",
       "      <th>month_num</th>\n",
       "      <th>month</th>\n",
       "      <th>message</th>\n",
       "    </tr>\n",
       "  </thead>\n",
       "  <tbody>\n",
       "    <tr>\n",
       "      <th>0</th>\n",
       "      <td>2020</td>\n",
       "      <td>12</td>\n",
       "      <td>December</td>\n",
       "      <td>2</td>\n",
       "    </tr>\n",
       "    <tr>\n",
       "      <th>1</th>\n",
       "      <td>2021</td>\n",
       "      <td>11</td>\n",
       "      <td>November</td>\n",
       "      <td>12</td>\n",
       "    </tr>\n",
       "  </tbody>\n",
       "</table>\n",
       "</div>"
      ],
      "text/plain": [
       "   year  month_num     month  message\n",
       "0  2020         12  December        2\n",
       "1  2021         11  November       12"
      ]
     },
     "execution_count": 54,
     "metadata": {},
     "output_type": "execute_result"
    }
   ],
   "source": [
    "timeline"
   ]
  },
  {
   "cell_type": "code",
   "execution_count": 55,
   "metadata": {},
   "outputs": [],
   "source": [
    "time = []\n",
    "for i in range(timeline.shape[0]):\n",
    "    time.append(timeline['month'][i] + \"-\"+str(timeline['year'][i]))"
   ]
  },
  {
   "cell_type": "code",
   "execution_count": 56,
   "metadata": {},
   "outputs": [],
   "source": [
    "timeline['time'] = time"
   ]
  },
  {
   "cell_type": "code",
   "execution_count": 57,
   "metadata": {},
   "outputs": [
    {
     "data": {
      "text/html": [
       "<div>\n",
       "<style scoped>\n",
       "    .dataframe tbody tr th:only-of-type {\n",
       "        vertical-align: middle;\n",
       "    }\n",
       "\n",
       "    .dataframe tbody tr th {\n",
       "        vertical-align: top;\n",
       "    }\n",
       "\n",
       "    .dataframe thead th {\n",
       "        text-align: right;\n",
       "    }\n",
       "</style>\n",
       "<table border=\"1\" class=\"dataframe\">\n",
       "  <thead>\n",
       "    <tr style=\"text-align: right;\">\n",
       "      <th></th>\n",
       "      <th>year</th>\n",
       "      <th>month_num</th>\n",
       "      <th>month</th>\n",
       "      <th>message</th>\n",
       "      <th>time</th>\n",
       "    </tr>\n",
       "  </thead>\n",
       "  <tbody>\n",
       "    <tr>\n",
       "      <th>0</th>\n",
       "      <td>2020</td>\n",
       "      <td>12</td>\n",
       "      <td>December</td>\n",
       "      <td>2</td>\n",
       "      <td>December-2020</td>\n",
       "    </tr>\n",
       "    <tr>\n",
       "      <th>1</th>\n",
       "      <td>2021</td>\n",
       "      <td>11</td>\n",
       "      <td>November</td>\n",
       "      <td>12</td>\n",
       "      <td>November-2021</td>\n",
       "    </tr>\n",
       "  </tbody>\n",
       "</table>\n",
       "</div>"
      ],
      "text/plain": [
       "   year  month_num     month  message           time\n",
       "0  2020         12  December        2  December-2020\n",
       "1  2021         11  November       12  November-2021"
      ]
     },
     "execution_count": 57,
     "metadata": {},
     "output_type": "execute_result"
    }
   ],
   "source": [
    "timeline"
   ]
  },
  {
   "cell_type": "code",
   "execution_count": 58,
   "metadata": {},
   "outputs": [
    {
     "name": "stderr",
     "output_type": "stream",
     "text": [
      "C:\\Users\\Shankar Wagh SNR\\Anaconda3\\lib\\site-packages\\matplotlib\\cbook\\__init__.py:1402: FutureWarning: Support for multi-dimensional indexing (e.g. `obj[:, None]`) is deprecated and will be removed in a future version.  Convert to a numpy array before indexing instead.\n",
      "  x[:, None]\n",
      "C:\\Users\\Shankar Wagh SNR\\Anaconda3\\lib\\site-packages\\matplotlib\\axes\\_base.py:276: FutureWarning: Support for multi-dimensional indexing (e.g. `obj[:, None]`) is deprecated and will be removed in a future version.  Convert to a numpy array before indexing instead.\n",
      "  x = x[:, np.newaxis]\n",
      "C:\\Users\\Shankar Wagh SNR\\Anaconda3\\lib\\site-packages\\matplotlib\\axes\\_base.py:278: FutureWarning: Support for multi-dimensional indexing (e.g. `obj[:, None]`) is deprecated and will be removed in a future version.  Convert to a numpy array before indexing instead.\n",
      "  y = y[:, np.newaxis]\n"
     ]
    },
    {
     "data": {
      "image/png": "[encoded data removed]",
      "text/plain": [
       "<Figure size 432x288 with 1 Axes>"
      ]
     },
     "metadata": {
      "needs_background": "light"
     },
     "output_type": "display_data"
    }
   ],
   "source": [
    "plt.plot(timeline['time'], timeline['message'])\n",
    "plt.xticks(rotation='90')\n",
    "plt.show()"
   ]
  },
  {
   "cell_type": "code",
   "execution_count": 62,
   "metadata": {},
   "outputs": [],
   "source": [
    "df['only_date'] = df['date'].dt.date"
   ]
  },
  {
   "cell_type": "code",
   "execution_count": 63,
   "metadata": {},
   "outputs": [
    {
     "data": {
      "text/html": [
       "<div>\n",
       "<style scoped>\n",
       "    .dataframe tbody tr th:only-of-type {\n",
       "        vertical-align: middle;\n",
       "    }\n",
       "\n",
       "    .dataframe tbody tr th {\n",
       "        vertical-align: top;\n",
       "    }\n",
       "\n",
       "    .dataframe thead th {\n",
       "        text-align: right;\n",
       "    }\n",
       "</style>\n",
       "<table border=\"1\" class=\"dataframe\">\n",
       "  <thead>\n",
       "    <tr style=\"text-align: right;\">\n",
       "      <th></th>\n",
       "      <th>date</th>\n",
       "      <th>user</th>\n",
       "      <th>message</th>\n",
       "      <th>year</th>\n",
       "      <th>month</th>\n",
       "      <th>day</th>\n",
       "      <th>hour</th>\n",
       "      <th>minute</th>\n",
       "      <th>month_num</th>\n",
       "      <th>only_date</th>\n",
       "    </tr>\n",
       "  </thead>\n",
       "  <tbody>\n",
       "    <tr>\n",
       "      <th>0</th>\n",
       "      <td>2020-12-03 12:12:00</td>\n",
       "      <td>group_notification</td>\n",
       "      <td>Apoorva Nayyer Lb created group \"Lb_dsc_Jan 3r...</td>\n",
       "      <td>2020</td>\n",
       "      <td>December</td>\n",
       "      <td>3</td>\n",
       "      <td>12</td>\n",
       "      <td>12</td>\n",
       "      <td>12</td>\n",
       "      <td>2020-12-03</td>\n",
       "    </tr>\n",
       "    <tr>\n",
       "      <th>1</th>\n",
       "      <td>2020-12-03 12:12:00</td>\n",
       "      <td>group_notification</td>\n",
       "      <td>You were added\\n</td>\n",
       "      <td>2020</td>\n",
       "      <td>December</td>\n",
       "      <td>3</td>\n",
       "      <td>12</td>\n",
       "      <td>12</td>\n",
       "      <td>12</td>\n",
       "      <td>2020-12-03</td>\n",
       "    </tr>\n",
       "    <tr>\n",
       "      <th>2</th>\n",
       "      <td>2021-11-25 08:18:00</td>\n",
       "      <td>Sandip LB</td>\n",
       "      <td>Hey @917081929249 , our Power BI was completed...</td>\n",
       "      <td>2021</td>\n",
       "      <td>November</td>\n",
       "      <td>25</td>\n",
       "      <td>8</td>\n",
       "      <td>18</td>\n",
       "      <td>11</td>\n",
       "      <td>2021-11-25</td>\n",
       "    </tr>\n",
       "    <tr>\n",
       "      <th>3</th>\n",
       "      <td>2021-11-25 10:55:00</td>\n",
       "      <td>Simran</td>\n",
       "      <td>Hi ...sure will ask him to upload\\n</td>\n",
       "      <td>2021</td>\n",
       "      <td>November</td>\n",
       "      <td>25</td>\n",
       "      <td>10</td>\n",
       "      <td>55</td>\n",
       "      <td>11</td>\n",
       "      <td>2021-11-25</td>\n",
       "    </tr>\n",
       "    <tr>\n",
       "      <th>4</th>\n",
       "      <td>2021-11-26 18:54:00</td>\n",
       "      <td>group_notification</td>\n",
       "      <td>Simran added +91 90022 73736\\n</td>\n",
       "      <td>2021</td>\n",
       "      <td>November</td>\n",
       "      <td>26</td>\n",
       "      <td>18</td>\n",
       "      <td>54</td>\n",
       "      <td>11</td>\n",
       "      <td>2021-11-26</td>\n",
       "    </tr>\n",
       "    <tr>\n",
       "      <th>5</th>\n",
       "      <td>2021-11-27 08:30:00</td>\n",
       "      <td>+91 90022 73736</td>\n",
       "      <td>Guys we will start in 5 mins\\n</td>\n",
       "      <td>2021</td>\n",
       "      <td>November</td>\n",
       "      <td>27</td>\n",
       "      <td>8</td>\n",
       "      <td>30</td>\n",
       "      <td>11</td>\n",
       "      <td>2021-11-27</td>\n",
       "    </tr>\n",
       "    <tr>\n",
       "      <th>6</th>\n",
       "      <td>2021-11-27 16:59:00</td>\n",
       "      <td>Shankar Wagh</td>\n",
       "      <td>@917081929249 mam upload today's  lecture on l...</td>\n",
       "      <td>2021</td>\n",
       "      <td>November</td>\n",
       "      <td>27</td>\n",
       "      <td>16</td>\n",
       "      <td>59</td>\n",
       "      <td>11</td>\n",
       "      <td>2021-11-27</td>\n",
       "    </tr>\n",
       "    <tr>\n",
       "      <th>7</th>\n",
       "      <td>2021-11-27 17:03:00</td>\n",
       "      <td>Simran</td>\n",
       "      <td>will be uploaded within 15 minutes\\n</td>\n",
       "      <td>2021</td>\n",
       "      <td>November</td>\n",
       "      <td>27</td>\n",
       "      <td>17</td>\n",
       "      <td>3</td>\n",
       "      <td>11</td>\n",
       "      <td>2021-11-27</td>\n",
       "    </tr>\n",
       "    <tr>\n",
       "      <th>8</th>\n",
       "      <td>2021-11-27 17:03:00</td>\n",
       "      <td>Shankar Wagh</td>\n",
       "      <td>Ok thanks\\n</td>\n",
       "      <td>2021</td>\n",
       "      <td>November</td>\n",
       "      <td>27</td>\n",
       "      <td>17</td>\n",
       "      <td>3</td>\n",
       "      <td>11</td>\n",
       "      <td>2021-11-27</td>\n",
       "    </tr>\n",
       "    <tr>\n",
       "      <th>9</th>\n",
       "      <td>2021-11-28 06:38:00</td>\n",
       "      <td>+91 90022 73736</td>\n",
       "      <td>Team am having extreme stomach aches this morn...</td>\n",
       "      <td>2021</td>\n",
       "      <td>November</td>\n",
       "      <td>28</td>\n",
       "      <td>6</td>\n",
       "      <td>38</td>\n",
       "      <td>11</td>\n",
       "      <td>2021-11-28</td>\n",
       "    </tr>\n",
       "    <tr>\n",
       "      <th>10</th>\n",
       "      <td>2021-11-28 07:38:00</td>\n",
       "      <td>+91 83760 80602</td>\n",
       "      <td>No problem sir, take care\\n</td>\n",
       "      <td>2021</td>\n",
       "      <td>November</td>\n",
       "      <td>28</td>\n",
       "      <td>7</td>\n",
       "      <td>38</td>\n",
       "      <td>11</td>\n",
       "      <td>2021-11-28</td>\n",
       "    </tr>\n",
       "    <tr>\n",
       "      <th>11</th>\n",
       "      <td>2021-11-28 07:43:00</td>\n",
       "      <td>Shankar Wagh</td>\n",
       "      <td>Ok sir, take care\\n</td>\n",
       "      <td>2021</td>\n",
       "      <td>November</td>\n",
       "      <td>28</td>\n",
       "      <td>7</td>\n",
       "      <td>43</td>\n",
       "      <td>11</td>\n",
       "      <td>2021-11-28</td>\n",
       "    </tr>\n",
       "    <tr>\n",
       "      <th>12</th>\n",
       "      <td>2021-11-28 07:56:00</td>\n",
       "      <td>Sandip LB</td>\n",
       "      <td>Take care sir\\n</td>\n",
       "      <td>2021</td>\n",
       "      <td>November</td>\n",
       "      <td>28</td>\n",
       "      <td>7</td>\n",
       "      <td>56</td>\n",
       "      <td>11</td>\n",
       "      <td>2021-11-28</td>\n",
       "    </tr>\n",
       "    <tr>\n",
       "      <th>13</th>\n",
       "      <td>2021-11-28 08:33:00</td>\n",
       "      <td>Satya Lb1</td>\n",
       "      <td>No Problem... Please take care\\n</td>\n",
       "      <td>2021</td>\n",
       "      <td>November</td>\n",
       "      <td>28</td>\n",
       "      <td>8</td>\n",
       "      <td>33</td>\n",
       "      <td>11</td>\n",
       "      <td>2021-11-28</td>\n",
       "    </tr>\n",
       "  </tbody>\n",
       "</table>\n",
       "</div>"
      ],
      "text/plain": [
       "                  date                user  \\\n",
       "0  2020-12-03 12:12:00  group_notification   \n",
       "1  2020-12-03 12:12:00  group_notification   \n",
       "2  2021-11-25 08:18:00           Sandip LB   \n",
       "3  2021-11-25 10:55:00              Simran   \n",
       "4  2021-11-26 18:54:00  group_notification   \n",
       "5  2021-11-27 08:30:00     +91 90022 73736   \n",
       "6  2021-11-27 16:59:00        Shankar Wagh   \n",
       "7  2021-11-27 17:03:00              Simran   \n",
       "8  2021-11-27 17:03:00        Shankar Wagh   \n",
       "9  2021-11-28 06:38:00     +91 90022 73736   \n",
       "10 2021-11-28 07:38:00     +91 83760 80602   \n",
       "11 2021-11-28 07:43:00        Shankar Wagh   \n",
       "12 2021-11-28 07:56:00           Sandip LB   \n",
       "13 2021-11-28 08:33:00           Satya Lb1   \n",
       "\n",
       "                                              message  year     month  day  \\\n",
       "0   Apoorva Nayyer Lb created group \"Lb_dsc_Jan 3r...  2020  December    3   \n",
       "1                                    You were added\\n  2020  December    3   \n",
       "2   Hey @917081929249 , our Power BI was completed...  2021  November   25   \n",
       "3                 Hi ...sure will ask him to upload\\n  2021  November   25   \n",
       "4                      Simran added +91 90022 73736\\n  2021  November   26   \n",
       "5                      Guys we will start in 5 mins\\n  2021  November   27   \n",
       "6   @917081929249 mam upload today's  lecture on l...  2021  November   27   \n",
       "7                will be uploaded within 15 minutes\\n  2021  November   27   \n",
       "8                                         Ok thanks\\n  2021  November   27   \n",
       "9   Team am having extreme stomach aches this morn...  2021  November   28   \n",
       "10                        No problem sir, take care\\n  2021  November   28   \n",
       "11                                Ok sir, take care\\n  2021  November   28   \n",
       "12                                    Take care sir\\n  2021  November   28   \n",
       "13                   No Problem... Please take care\\n  2021  November   28   \n",
       "\n",
       "    hour  minute  month_num   only_date  \n",
       "0     12      12         12  2020-12-03  \n",
       "1     12      12         12  2020-12-03  \n",
       "2      8      18         11  2021-11-25  \n",
       "3     10      55         11  2021-11-25  \n",
       "4     18      54         11  2021-11-26  \n",
       "5      8      30         11  2021-11-27  \n",
       "6     16      59         11  2021-11-27  \n",
       "7     17       3         11  2021-11-27  \n",
       "8     17       3         11  2021-11-27  \n",
       "9      6      38         11  2021-11-28  \n",
       "10     7      38         11  2021-11-28  \n",
       "11     7      43         11  2021-11-28  \n",
       "12     7      56         11  2021-11-28  \n",
       "13     8      33         11  2021-11-28  "
      ]
     },
     "execution_count": 63,
     "metadata": {},
     "output_type": "execute_result"
    }
   ],
   "source": [
    "df"
   ]
  },
  {
   "cell_type": "code",
   "execution_count": 73,
   "metadata": {},
   "outputs": [],
   "source": [
    "daily_timeline = df.groupby(['only_date']).count()['message'].reset_index()"
   ]
  },
  {
   "cell_type": "code",
   "execution_count": 75,
   "metadata": {},
   "outputs": [
    {
     "data": {
      "text/plain": [
       "[<matplotlib.lines.Line2D at 0x1a658f9fcc0>]"
      ]
     },
     "execution_count": 75,
     "metadata": {},
     "output_type": "execute_result"
    },
    {
     "data": {
      "image/png": "[encoded data removed]",
      "text/plain": [
       "<Figure size 1296x720 with 1 Axes>"
      ]
     },
     "metadata": {
      "needs_background": "light"
     },
     "output_type": "display_data"
    }
   ],
   "source": [
    "plt.figure(figsize=(18,10))\n",
    "plt.plot(daily_timeline['only_date'], daily_timeline['message'])"
   ]
  },
  {
   "cell_type": "code",
   "execution_count": null,
   "metadata": {},
   "outputs": [],
   "source": []
  },
  {
   "cell_type": "code",
   "execution_count": null,
   "metadata": {},
   "outputs": [],
   "source": []
  },
  {
   "cell_type": "code",
   "execution_count": null,
   "metadata": {},
   "outputs": [],
   "source": []
  },
  {
   "cell_type": "code",
   "execution_count": null,
   "metadata": {},
   "outputs": [],
   "source": []
  },
  {
   "cell_type": "code",
   "execution_count": null,
   "metadata": {},
   "outputs": [],
   "source": []
  },
  {
   "cell_type": "code",
   "execution_count": null,
   "metadata": {},
   "outputs": [],
   "source": []
  },
  {
   "cell_type": "code",
   "execution_count": null,
   "metadata": {},
   "outputs": [],
   "source": []
  },
  {
   "cell_type": "code",
   "execution_count": null,
   "metadata": {},
   "outputs": [],
   "source": []
  },
  {
   "cell_type": "code",
   "execution_count": null,
   "metadata": {},
   "outputs": [],
   "source": []
  },
  {
   "cell_type": "code",
   "execution_count": null,
   "metadata": {},
   "outputs": [],
   "source": []
  },
  {
   "cell_type": "code",
   "execution_count": 96,
   "metadata": {},
   "outputs": [
    {
     "data": {
      "text/plain": [
       "Timestamp('2021-11-28 17:33:00')"
      ]
     },
     "execution_count": 96,
     "metadata": {},
     "output_type": "execute_result"
    }
   ],
   "source": [
    "# pd.to_datetime('11/28/21, 5:33 PM',format=\"%m/%d/%y, %I:%M %p\")"
   ]
  },
  {
   "cell_type": "code",
   "execution_count": 97,
   "metadata": {},
   "outputs": [],
   "source": [
    "# def date_extract(data):\n",
    "#     pt = \"\\d{1,2}/\\d{1,2}/\\d{2,4}\"\n",
    "#     date = re.findall(pt, data)\n",
    "#     return date"
   ]
  },
  {
   "cell_type": "code",
   "execution_count": 98,
   "metadata": {},
   "outputs": [
    {
     "data": {
      "text/plain": [
       "['12/3/20']"
      ]
     },
     "execution_count": 98,
     "metadata": {},
     "output_type": "execute_result"
    }
   ],
   "source": [
    "# date_extract('12/3/20, 12:12 PM -')"
   ]
  },
  {
   "cell_type": "code",
   "execution_count": 99,
   "metadata": {},
   "outputs": [
    {
     "ename": "KeyError",
     "evalue": "'message_date'",
     "output_type": "error",
     "traceback": [
      "\u001b[1;31m---------------------------------------------------------------------------\u001b[0m",
      "\u001b[1;31mKeyError\u001b[0m                                  Traceback (most recent call last)",
      "\u001b[1;32m~\\Anaconda3\\lib\\site-packages\\pandas\\core\\indexes\\base.py\u001b[0m in \u001b[0;36mget_loc\u001b[1;34m(self, key, method, tolerance)\u001b[0m\n\u001b[0;32m   3360\u001b[0m             \u001b[1;32mtry\u001b[0m\u001b[1;33m:\u001b[0m\u001b[1;33m\u001b[0m\u001b[1;33m\u001b[0m\u001b[0m\n\u001b[1;32m-> 3361\u001b[1;33m                 \u001b[1;32mreturn\u001b[0m \u001b[0mself\u001b[0m\u001b[1;33m.\u001b[0m\u001b[0m_engine\u001b[0m\u001b[1;33m.\u001b[0m\u001b[0mget_loc\u001b[0m\u001b[1;33m(\u001b[0m\u001b[0mcasted_key\u001b[0m\u001b[1;33m)\u001b[0m\u001b[1;33m\u001b[0m\u001b[1;33m\u001b[0m\u001b[0m\n\u001b[0m\u001b[0;32m   3362\u001b[0m             \u001b[1;32mexcept\u001b[0m \u001b[0mKeyError\u001b[0m \u001b[1;32mas\u001b[0m \u001b[0merr\u001b[0m\u001b[1;33m:\u001b[0m\u001b[1;33m\u001b[0m\u001b[1;33m\u001b[0m\u001b[0m\n",
      "\u001b[1;32m~\\Anaconda3\\lib\\site-packages\\pandas\\_libs\\index.pyx\u001b[0m in \u001b[0;36mpandas._libs.index.IndexEngine.get_loc\u001b[1;34m()\u001b[0m\n",
      "\u001b[1;32m~\\Anaconda3\\lib\\site-packages\\pandas\\_libs\\index.pyx\u001b[0m in \u001b[0;36mpandas._libs.index.IndexEngine.get_loc\u001b[1;34m()\u001b[0m\n",
      "\u001b[1;32mpandas\\_libs\\hashtable_class_helper.pxi\u001b[0m in \u001b[0;36mpandas._libs.hashtable.PyObjectHashTable.get_item\u001b[1;34m()\u001b[0m\n",
      "\u001b[1;32mpandas\\_libs\\hashtable_class_helper.pxi\u001b[0m in \u001b[0;36mpandas._libs.hashtable.PyObjectHashTable.get_item\u001b[1;34m()\u001b[0m\n",
      "\u001b[1;31mKeyError\u001b[0m: 'message_date'",
      "\nThe above exception was the direct cause of the following exception:\n",
      "\u001b[1;31mKeyError\u001b[0m                                  Traceback (most recent call last)",
      "\u001b[1;32m<ipython-input-99-39d1469ec76d>\u001b[0m in \u001b[0;36m<module>\u001b[1;34m\u001b[0m\n\u001b[1;32m----> 1\u001b[1;33m \u001b[0mdf\u001b[0m\u001b[1;33m[\u001b[0m\u001b[1;34m'date'\u001b[0m\u001b[1;33m]\u001b[0m \u001b[1;33m=\u001b[0m \u001b[0mdf\u001b[0m\u001b[1;33m[\u001b[0m\u001b[1;34m'message_date'\u001b[0m\u001b[1;33m]\u001b[0m\u001b[1;33m.\u001b[0m\u001b[0mapply\u001b[0m\u001b[1;33m(\u001b[0m\u001b[1;32mlambda\u001b[0m \u001b[0mX\u001b[0m\u001b[1;33m:\u001b[0m\u001b[0mdate_extract\u001b[0m\u001b[1;33m(\u001b[0m\u001b[0mX\u001b[0m\u001b[1;33m)\u001b[0m\u001b[1;33m[\u001b[0m\u001b[1;36m0\u001b[0m\u001b[1;33m]\u001b[0m\u001b[1;33m)\u001b[0m\u001b[1;33m\u001b[0m\u001b[1;33m\u001b[0m\u001b[0m\n\u001b[0m",
      "\u001b[1;32m~\\Anaconda3\\lib\\site-packages\\pandas\\core\\frame.py\u001b[0m in \u001b[0;36m__getitem__\u001b[1;34m(self, key)\u001b[0m\n\u001b[0;32m   3456\u001b[0m             \u001b[1;32mif\u001b[0m \u001b[0mself\u001b[0m\u001b[1;33m.\u001b[0m\u001b[0mcolumns\u001b[0m\u001b[1;33m.\u001b[0m\u001b[0mnlevels\u001b[0m \u001b[1;33m>\u001b[0m \u001b[1;36m1\u001b[0m\u001b[1;33m:\u001b[0m\u001b[1;33m\u001b[0m\u001b[1;33m\u001b[0m\u001b[0m\n\u001b[0;32m   3457\u001b[0m                 \u001b[1;32mreturn\u001b[0m \u001b[0mself\u001b[0m\u001b[1;33m.\u001b[0m\u001b[0m_getitem_multilevel\u001b[0m\u001b[1;33m(\u001b[0m\u001b[0mkey\u001b[0m\u001b[1;33m)\u001b[0m\u001b[1;33m\u001b[0m\u001b[1;33m\u001b[0m\u001b[0m\n\u001b[1;32m-> 3458\u001b[1;33m             \u001b[0mindexer\u001b[0m \u001b[1;33m=\u001b[0m \u001b[0mself\u001b[0m\u001b[1;33m.\u001b[0m\u001b[0mcolumns\u001b[0m\u001b[1;33m.\u001b[0m\u001b[0mget_loc\u001b[0m\u001b[1;33m(\u001b[0m\u001b[0mkey\u001b[0m\u001b[1;33m)\u001b[0m\u001b[1;33m\u001b[0m\u001b[1;33m\u001b[0m\u001b[0m\n\u001b[0m\u001b[0;32m   3459\u001b[0m             \u001b[1;32mif\u001b[0m \u001b[0mis_integer\u001b[0m\u001b[1;33m(\u001b[0m\u001b[0mindexer\u001b[0m\u001b[1;33m)\u001b[0m\u001b[1;33m:\u001b[0m\u001b[1;33m\u001b[0m\u001b[1;33m\u001b[0m\u001b[0m\n\u001b[0;32m   3460\u001b[0m                 \u001b[0mindexer\u001b[0m \u001b[1;33m=\u001b[0m \u001b[1;33m[\u001b[0m\u001b[0mindexer\u001b[0m\u001b[1;33m]\u001b[0m\u001b[1;33m\u001b[0m\u001b[1;33m\u001b[0m\u001b[0m\n",
      "\u001b[1;32m~\\Anaconda3\\lib\\site-packages\\pandas\\core\\indexes\\base.py\u001b[0m in \u001b[0;36mget_loc\u001b[1;34m(self, key, method, tolerance)\u001b[0m\n\u001b[0;32m   3361\u001b[0m                 \u001b[1;32mreturn\u001b[0m \u001b[0mself\u001b[0m\u001b[1;33m.\u001b[0m\u001b[0m_engine\u001b[0m\u001b[1;33m.\u001b[0m\u001b[0mget_loc\u001b[0m\u001b[1;33m(\u001b[0m\u001b[0mcasted_key\u001b[0m\u001b[1;33m)\u001b[0m\u001b[1;33m\u001b[0m\u001b[1;33m\u001b[0m\u001b[0m\n\u001b[0;32m   3362\u001b[0m             \u001b[1;32mexcept\u001b[0m \u001b[0mKeyError\u001b[0m \u001b[1;32mas\u001b[0m \u001b[0merr\u001b[0m\u001b[1;33m:\u001b[0m\u001b[1;33m\u001b[0m\u001b[1;33m\u001b[0m\u001b[0m\n\u001b[1;32m-> 3363\u001b[1;33m                 \u001b[1;32mraise\u001b[0m \u001b[0mKeyError\u001b[0m\u001b[1;33m(\u001b[0m\u001b[0mkey\u001b[0m\u001b[1;33m)\u001b[0m \u001b[1;32mfrom\u001b[0m \u001b[0merr\u001b[0m\u001b[1;33m\u001b[0m\u001b[1;33m\u001b[0m\u001b[0m\n\u001b[0m\u001b[0;32m   3364\u001b[0m \u001b[1;33m\u001b[0m\u001b[0m\n\u001b[0;32m   3365\u001b[0m         \u001b[1;32mif\u001b[0m \u001b[0mis_scalar\u001b[0m\u001b[1;33m(\u001b[0m\u001b[0mkey\u001b[0m\u001b[1;33m)\u001b[0m \u001b[1;32mand\u001b[0m \u001b[0misna\u001b[0m\u001b[1;33m(\u001b[0m\u001b[0mkey\u001b[0m\u001b[1;33m)\u001b[0m \u001b[1;32mand\u001b[0m \u001b[1;32mnot\u001b[0m \u001b[0mself\u001b[0m\u001b[1;33m.\u001b[0m\u001b[0mhasnans\u001b[0m\u001b[1;33m:\u001b[0m\u001b[1;33m\u001b[0m\u001b[1;33m\u001b[0m\u001b[0m\n",
      "\u001b[1;31mKeyError\u001b[0m: 'message_date'"
     ]
    }
   ],
   "source": [
    "# df['date'] = df['message_date'].apply(lambda X:date_extract(X)[0])"
   ]
  },
  {
   "cell_type": "code",
   "execution_count": null,
   "metadata": {},
   "outputs": [],
   "source": [
    "# def time_extract(data):\n",
    "#     pt = \"\\d{1,2}:\\d{1,2}\\s?(?:AM|PM|am|pm)\"\n",
    "#     date = re.findall(pt, data)\n",
    "#     return date"
   ]
  },
  {
   "cell_type": "code",
   "execution_count": null,
   "metadata": {},
   "outputs": [],
   "source": [
    "# time_extract('12/3/20, 12:12 PM -')[0]"
   ]
  },
  {
   "cell_type": "code",
   "execution_count": null,
   "metadata": {},
   "outputs": [],
   "source": [
    "# df['time'] = df['message_date'].apply(lambda X:time_extract(X)[0])"
   ]
  },
  {
   "cell_type": "code",
   "execution_count": null,
   "metadata": {
    "scrolled": true
   },
   "outputs": [],
   "source": [
    "# df.head()"
   ]
  },
  {
   "cell_type": "code",
   "execution_count": null,
   "metadata": {},
   "outputs": [],
   "source": [
    "# df['date'] = pd.to_datetime(df['date'])\n",
    "# df['time'] = pd.to_datetime(df['time'],origin=\"unix\")"
   ]
  },
  {
   "cell_type": "code",
   "execution_count": null,
   "metadata": {},
   "outputs": [],
   "source": [
    "# df"
   ]
  },
  {
   "cell_type": "code",
   "execution_count": null,
   "metadata": {},
   "outputs": [],
   "source": [
    "# df.rename(columns={'message_date':'date'}, inplace=True)\n",
    "# df.head()"
   ]
  }
 ],
 "metadata": {
  "kernelspec": {
   "display_name": "Python 3",
   "language": "python",
   "name": "python3"
  },
  "language_info": {
   "codemirror_mode": {
    "name": "ipython",
    "version": 3
   },
   "file_extension": ".py",
   "mimetype": "text/x-python",
   "name": "python",
   "nbconvert_exporter": "python",
   "pygments_lexer": "ipython3",
   "version": "3.7.3"
  }
 },
 "nbformat": 4,
 "nbformat_minor": 2
}
